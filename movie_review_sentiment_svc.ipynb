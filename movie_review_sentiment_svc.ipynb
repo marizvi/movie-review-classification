{
 "cells": [
  {
   "cell_type": "markdown",
   "metadata": {},
   "source": []
  },
  {
   "cell_type": "code",
   "execution_count": 42,
   "metadata": {},
   "outputs": [],
   "source": [
    "import numpy as np\n",
    "import pandas as pd\n",
    "import seaborn as sns\n",
    "import matplotlib.pyplot as plt"
   ]
  },
  {
   "cell_type": "code",
   "execution_count": 43,
   "metadata": {},
   "outputs": [],
   "source": [
    "df = pd.read_csv('./train.csv')\n",
    "# save df to csv"
   ]
  },
  {
   "cell_type": "code",
   "execution_count": 44,
   "metadata": {},
   "outputs": [
    {
     "data": {
      "text/html": [
       "<div>\n",
       "<style scoped>\n",
       "    .dataframe tbody tr th:only-of-type {\n",
       "        vertical-align: middle;\n",
       "    }\n",
       "\n",
       "    .dataframe tbody tr th {\n",
       "        vertical-align: top;\n",
       "    }\n",
       "\n",
       "    .dataframe thead th {\n",
       "        text-align: right;\n",
       "    }\n",
       "</style>\n",
       "<table border=\"1\" class=\"dataframe\">\n",
       "  <thead>\n",
       "    <tr style=\"text-align: right;\">\n",
       "      <th></th>\n",
       "      <th>PhraseId</th>\n",
       "      <th>SentenceId</th>\n",
       "      <th>Phrase</th>\n",
       "      <th>Sentiment</th>\n",
       "    </tr>\n",
       "  </thead>\n",
       "  <tbody>\n",
       "    <tr>\n",
       "      <th>156073</th>\n",
       "      <td>156074</td>\n",
       "      <td>8557</td>\n",
       "      <td>never dissapoints the audience</td>\n",
       "      <td>3.0</td>\n",
       "    </tr>\n",
       "    <tr>\n",
       "      <th>156074</th>\n",
       "      <td>156075</td>\n",
       "      <td>8558</td>\n",
       "      <td>I don't know why people were so excited It isn...</td>\n",
       "      <td>1.0</td>\n",
       "    </tr>\n",
       "    <tr>\n",
       "      <th>156075</th>\n",
       "      <td>156076</td>\n",
       "      <td>8558</td>\n",
       "      <td>don't know why people were so excited It wasn'...</td>\n",
       "      <td>1.0</td>\n",
       "    </tr>\n",
       "    <tr>\n",
       "      <th>156076</th>\n",
       "      <td>156077</td>\n",
       "      <td>8558</td>\n",
       "      <td>It isn't worth it.</td>\n",
       "      <td>1.0</td>\n",
       "    </tr>\n",
       "    <tr>\n",
       "      <th>156077</th>\n",
       "      <td>156078</td>\n",
       "      <td>8558</td>\n",
       "      <td>I don't know why people were so excited.</td>\n",
       "      <td>1.0</td>\n",
       "    </tr>\n",
       "  </tbody>\n",
       "</table>\n",
       "</div>"
      ],
      "text/plain": [
       "        PhraseId  SentenceId  \\\n",
       "156073    156074        8557   \n",
       "156074    156075        8558   \n",
       "156075    156076        8558   \n",
       "156076    156077        8558   \n",
       "156077    156078        8558   \n",
       "\n",
       "                                                   Phrase  Sentiment  \n",
       "156073                    never dissapoints the audience         3.0  \n",
       "156074  I don't know why people were so excited It isn...        1.0  \n",
       "156075  don't know why people were so excited It wasn'...        1.0  \n",
       "156076                                It isn't worth it.         1.0  \n",
       "156077          I don't know why people were so excited.         1.0  "
      ]
     },
     "execution_count": 44,
     "metadata": {},
     "output_type": "execute_result"
    }
   ],
   "source": [
    "df.tail()"
   ]
  },
  {
   "cell_type": "code",
   "execution_count": 45,
   "metadata": {},
   "outputs": [
    {
     "data": {
      "text/plain": [
       "PhraseId      0\n",
       "SentenceId    0\n",
       "Phrase        0\n",
       "Sentiment     3\n",
       "dtype: int64"
      ]
     },
     "execution_count": 45,
     "metadata": {},
     "output_type": "execute_result"
    }
   ],
   "source": [
    "df.isnull().sum()"
   ]
  },
  {
   "cell_type": "code",
   "execution_count": 46,
   "metadata": {},
   "outputs": [
    {
     "data": {
      "text/plain": [
       "156078"
      ]
     },
     "execution_count": 46,
     "metadata": {},
     "output_type": "execute_result"
    }
   ],
   "source": [
    "len(df)"
   ]
  },
  {
   "cell_type": "code",
   "execution_count": 47,
   "metadata": {},
   "outputs": [],
   "source": [
    "df = df.dropna()"
   ]
  },
  {
   "cell_type": "code",
   "execution_count": 48,
   "metadata": {},
   "outputs": [
    {
     "data": {
      "text/plain": [
       "PhraseId      0\n",
       "SentenceId    0\n",
       "Phrase        0\n",
       "Sentiment     0\n",
       "dtype: int64"
      ]
     },
     "execution_count": 48,
     "metadata": {},
     "output_type": "execute_result"
    }
   ],
   "source": [
    "df.isnull().sum()"
   ]
  },
  {
   "cell_type": "markdown",
   "metadata": {},
   "source": [
    "* Checking to see if any reviews are blank strings and not just NaN. \n",
    "* This means a review text could just be: \"\" or \"  \" or some other larger blank string."
   ]
  },
  {
   "cell_type": "code",
   "execution_count": 49,
   "metadata": {},
   "outputs": [
    {
     "data": {
      "text/plain": [
       "True"
      ]
     },
     "execution_count": 49,
     "metadata": {},
     "output_type": "execute_result"
    }
   ],
   "source": [
    "s=\" \"\n",
    "s.isspace()"
   ]
  },
  {
   "cell_type": "code",
   "execution_count": 50,
   "metadata": {},
   "outputs": [
    {
     "data": {
      "text/html": [
       "<div>\n",
       "<style scoped>\n",
       "    .dataframe tbody tr th:only-of-type {\n",
       "        vertical-align: middle;\n",
       "    }\n",
       "\n",
       "    .dataframe tbody tr th {\n",
       "        vertical-align: top;\n",
       "    }\n",
       "\n",
       "    .dataframe thead th {\n",
       "        text-align: right;\n",
       "    }\n",
       "</style>\n",
       "<table border=\"1\" class=\"dataframe\">\n",
       "  <thead>\n",
       "    <tr style=\"text-align: right;\">\n",
       "      <th></th>\n",
       "      <th>PhraseId</th>\n",
       "      <th>SentenceId</th>\n",
       "      <th>Phrase</th>\n",
       "      <th>Sentiment</th>\n",
       "    </tr>\n",
       "  </thead>\n",
       "  <tbody>\n",
       "    <tr>\n",
       "      <th>2005</th>\n",
       "      <td>2006</td>\n",
       "      <td>76</td>\n",
       "      <td></td>\n",
       "      <td>1.0</td>\n",
       "    </tr>\n",
       "  </tbody>\n",
       "</table>\n",
       "</div>"
      ],
      "text/plain": [
       "      PhraseId  SentenceId Phrase  Sentiment\n",
       "2005      2006          76               1.0"
      ]
     },
     "execution_count": 50,
     "metadata": {},
     "output_type": "execute_result"
    }
   ],
   "source": [
    "df[df['Phrase'].str.isspace()]\n"
   ]
  },
  {
   "cell_type": "code",
   "execution_count": 51,
   "metadata": {},
   "outputs": [],
   "source": [
    "df = df[~df['Phrase'].str.isspace()]"
   ]
  },
  {
   "cell_type": "code",
   "execution_count": 52,
   "metadata": {},
   "outputs": [
    {
     "data": {
      "text/html": [
       "<div>\n",
       "<style scoped>\n",
       "    .dataframe tbody tr th:only-of-type {\n",
       "        vertical-align: middle;\n",
       "    }\n",
       "\n",
       "    .dataframe tbody tr th {\n",
       "        vertical-align: top;\n",
       "    }\n",
       "\n",
       "    .dataframe thead th {\n",
       "        text-align: right;\n",
       "    }\n",
       "</style>\n",
       "<table border=\"1\" class=\"dataframe\">\n",
       "  <thead>\n",
       "    <tr style=\"text-align: right;\">\n",
       "      <th></th>\n",
       "      <th>PhraseId</th>\n",
       "      <th>SentenceId</th>\n",
       "      <th>Phrase</th>\n",
       "      <th>Sentiment</th>\n",
       "    </tr>\n",
       "  </thead>\n",
       "  <tbody>\n",
       "  </tbody>\n",
       "</table>\n",
       "</div>"
      ],
      "text/plain": [
       "Empty DataFrame\n",
       "Columns: [PhraseId, SentenceId, Phrase, Sentiment]\n",
       "Index: []"
      ]
     },
     "execution_count": 52,
     "metadata": {},
     "output_type": "execute_result"
    }
   ],
   "source": [
    "df[df['Phrase'].apply(lambda review: review =='')]\n",
    "# no empty strings\n",
    "# can also use isin"
   ]
  },
  {
   "cell_type": "code",
   "execution_count": 53,
   "metadata": {},
   "outputs": [
    {
     "name": "stdout",
     "output_type": "stream",
     "text": [
      "<class 'pandas.core.frame.DataFrame'>\n",
      "Int64Index: 156074 entries, 0 to 156077\n",
      "Data columns (total 4 columns):\n",
      " #   Column      Non-Null Count   Dtype  \n",
      "---  ------      --------------   -----  \n",
      " 0   PhraseId    156074 non-null  int64  \n",
      " 1   SentenceId  156074 non-null  int64  \n",
      " 2   Phrase      156074 non-null  object \n",
      " 3   Sentiment   156074 non-null  float64\n",
      "dtypes: float64(1), int64(2), object(1)\n",
      "memory usage: 6.0+ MB\n"
     ]
    }
   ],
   "source": [
    "df.info()"
   ]
  },
  {
   "cell_type": "markdown",
   "metadata": {},
   "source": [
    "**Confirm the value counts per label:**"
   ]
  },
  {
   "cell_type": "code",
   "execution_count": 54,
   "metadata": {},
   "outputs": [
    {
     "data": {
      "text/plain": [
       "2.0    79580\n",
       "3.0    32930\n",
       "1.0    27286\n",
       "4.0     9206\n",
       "0.0     7072\n",
       "Name: Sentiment, dtype: int64"
      ]
     },
     "execution_count": 54,
     "metadata": {},
     "output_type": "execute_result"
    }
   ],
   "source": [
    "df['Sentiment'].value_counts()"
   ]
  },
  {
   "cell_type": "code",
   "execution_count": 55,
   "metadata": {},
   "outputs": [
    {
     "data": {
      "text/plain": [
       "<AxesSubplot:xlabel='Sentiment', ylabel='count'>"
      ]
     },
     "execution_count": 55,
     "metadata": {},
     "output_type": "execute_result"
    },
    {
     "data": {
      "image/png": "[encoded data removed]",
      "text/plain": [
       "<Figure size 640x480 with 1 Axes>"
      ]
     },
     "metadata": {},
     "output_type": "display_data"
    }
   ],
   "source": [
    "sns.countplot(x='Sentiment', data=df)"
   ]
  },
  {
   "cell_type": "code",
   "execution_count": 56,
   "metadata": {},
   "outputs": [],
   "source": [
    "# df['Phrase_length'] = df['Phrase'].apply(len)\n",
    "# fig = plt.figure(figsize=(8, 4))\n",
    "# sns.boxplot(x='Sentiment', y='Phrase_length', data=df)"
   ]
  },
  {
   "cell_type": "markdown",
   "metadata": {},
   "source": [
    "#### Training"
   ]
  },
  {
   "cell_type": "code",
   "execution_count": 57,
   "metadata": {},
   "outputs": [],
   "source": [
    "from nltk.corpus import stopwords\n",
    "from nltk.stem import PorterStemmer, WordNetLemmatizer\n",
    "stemmer = PorterStemmer()\n",
    "lemmatizer = WordNetLemmatizer()\n",
    "stop_words = set(stopwords.words('english'))\n",
    "negations = ['not','isn\\'t,','wasn\\'t','aren\\'t','weren\\'t','don\\'t','didn\\'t','doesn\\'t','can\\'t','isn\\'t']\n",
    "# remove negations from stop words\n",
    "stop_words = stop_words - set(negations)"
   ]
  },
  {
   "cell_type": "code",
   "execution_count": 58,
   "metadata": {},
   "outputs": [],
   "source": [
    "def custom_tokenizer(text):\n",
    "    # Tokenization\n",
    "    tokens = text.split()\n",
    "    \n",
    "    # Remove stopwords, stem, and lemmatize the words\n",
    "    processed_tokens = [\n",
    "        lemmatizer.lemmatize(token)\n",
    "        for token in tokens\n",
    "        if token.lower() not in stop_words\n",
    "    ]\n",
    "    token_string = \" \".join(processed_tokens)\n",
    "    \n",
    "    # Return the processed tokens\n",
    "    return token_string"
   ]
  },
  {
   "cell_type": "code",
   "execution_count": 59,
   "metadata": {},
   "outputs": [],
   "source": [
    "df['phrase_custom'] = df['Phrase'].apply(custom_tokenizer)"
   ]
  },
  {
   "cell_type": "code",
   "execution_count": 60,
   "metadata": {},
   "outputs": [
    {
     "data": {
      "text/html": [
       "<div>\n",
       "<style scoped>\n",
       "    .dataframe tbody tr th:only-of-type {\n",
       "        vertical-align: middle;\n",
       "    }\n",
       "\n",
       "    .dataframe tbody tr th {\n",
       "        vertical-align: top;\n",
       "    }\n",
       "\n",
       "    .dataframe thead th {\n",
       "        text-align: right;\n",
       "    }\n",
       "</style>\n",
       "<table border=\"1\" class=\"dataframe\">\n",
       "  <thead>\n",
       "    <tr style=\"text-align: right;\">\n",
       "      <th></th>\n",
       "      <th>PhraseId</th>\n",
       "      <th>SentenceId</th>\n",
       "      <th>Phrase</th>\n",
       "      <th>Sentiment</th>\n",
       "      <th>phrase_custom</th>\n",
       "    </tr>\n",
       "  </thead>\n",
       "  <tbody>\n",
       "    <tr>\n",
       "      <th>156068</th>\n",
       "      <td>156069</td>\n",
       "      <td>8556</td>\n",
       "      <td>will never recommend to anyone</td>\n",
       "      <td>1.0</td>\n",
       "      <td>never recommend anyone</td>\n",
       "    </tr>\n",
       "    <tr>\n",
       "      <th>156069</th>\n",
       "      <td>156070</td>\n",
       "      <td>8556</td>\n",
       "      <td>I will never recommend this movie to anyone</td>\n",
       "      <td>1.0</td>\n",
       "      <td>never recommend movie anyone</td>\n",
       "    </tr>\n",
       "    <tr>\n",
       "      <th>156070</th>\n",
       "      <td>156071</td>\n",
       "      <td>8557</td>\n",
       "      <td>This level of acting never dissapoints the aud...</td>\n",
       "      <td>3.0</td>\n",
       "      <td>level acting never dissapoints audience</td>\n",
       "    </tr>\n",
       "    <tr>\n",
       "      <th>156071</th>\n",
       "      <td>156072</td>\n",
       "      <td>8557</td>\n",
       "      <td>level of acting never dissapoints the audience</td>\n",
       "      <td>3.0</td>\n",
       "      <td>level acting never dissapoints audience</td>\n",
       "    </tr>\n",
       "    <tr>\n",
       "      <th>156072</th>\n",
       "      <td>156073</td>\n",
       "      <td>8557</td>\n",
       "      <td>acting never dissapoints the audience</td>\n",
       "      <td>3.0</td>\n",
       "      <td>acting never dissapoints audience</td>\n",
       "    </tr>\n",
       "    <tr>\n",
       "      <th>156073</th>\n",
       "      <td>156074</td>\n",
       "      <td>8557</td>\n",
       "      <td>never dissapoints the audience</td>\n",
       "      <td>3.0</td>\n",
       "      <td>never dissapoints audience</td>\n",
       "    </tr>\n",
       "    <tr>\n",
       "      <th>156074</th>\n",
       "      <td>156075</td>\n",
       "      <td>8558</td>\n",
       "      <td>I don't know why people were so excited It isn...</td>\n",
       "      <td>1.0</td>\n",
       "      <td>don't know people excited isn't worth it.</td>\n",
       "    </tr>\n",
       "    <tr>\n",
       "      <th>156075</th>\n",
       "      <td>156076</td>\n",
       "      <td>8558</td>\n",
       "      <td>don't know why people were so excited It wasn'...</td>\n",
       "      <td>1.0</td>\n",
       "      <td>don't know people excited wasn't worth it.</td>\n",
       "    </tr>\n",
       "    <tr>\n",
       "      <th>156076</th>\n",
       "      <td>156077</td>\n",
       "      <td>8558</td>\n",
       "      <td>It isn't worth it.</td>\n",
       "      <td>1.0</td>\n",
       "      <td>isn't worth it.</td>\n",
       "    </tr>\n",
       "    <tr>\n",
       "      <th>156077</th>\n",
       "      <td>156078</td>\n",
       "      <td>8558</td>\n",
       "      <td>I don't know why people were so excited.</td>\n",
       "      <td>1.0</td>\n",
       "      <td>don't know people excited.</td>\n",
       "    </tr>\n",
       "  </tbody>\n",
       "</table>\n",
       "</div>"
      ],
      "text/plain": [
       "        PhraseId  SentenceId  \\\n",
       "156068    156069        8556   \n",
       "156069    156070        8556   \n",
       "156070    156071        8557   \n",
       "156071    156072        8557   \n",
       "156072    156073        8557   \n",
       "156073    156074        8557   \n",
       "156074    156075        8558   \n",
       "156075    156076        8558   \n",
       "156076    156077        8558   \n",
       "156077    156078        8558   \n",
       "\n",
       "                                                   Phrase  Sentiment  \\\n",
       "156068                    will never recommend to anyone         1.0   \n",
       "156069       I will never recommend this movie to anyone         1.0   \n",
       "156070  This level of acting never dissapoints the aud...        3.0   \n",
       "156071    level of acting never dissapoints the audience         3.0   \n",
       "156072             acting never dissapoints the audience         3.0   \n",
       "156073                    never dissapoints the audience         3.0   \n",
       "156074  I don't know why people were so excited It isn...        1.0   \n",
       "156075  don't know why people were so excited It wasn'...        1.0   \n",
       "156076                                It isn't worth it.         1.0   \n",
       "156077          I don't know why people were so excited.         1.0   \n",
       "\n",
       "                                     phrase_custom  \n",
       "156068                      never recommend anyone  \n",
       "156069                never recommend movie anyone  \n",
       "156070     level acting never dissapoints audience  \n",
       "156071     level acting never dissapoints audience  \n",
       "156072           acting never dissapoints audience  \n",
       "156073                  never dissapoints audience  \n",
       "156074   don't know people excited isn't worth it.  \n",
       "156075  don't know people excited wasn't worth it.  \n",
       "156076                             isn't worth it.  \n",
       "156077                  don't know people excited.  "
      ]
     },
     "execution_count": 60,
     "metadata": {},
     "output_type": "execute_result"
    }
   ],
   "source": [
    "df.tail(10)"
   ]
  },
  {
   "cell_type": "code",
   "execution_count": 61,
   "metadata": {},
   "outputs": [],
   "source": [
    "from sklearn.model_selection import train_test_split"
   ]
  },
  {
   "cell_type": "code",
   "execution_count": 62,
   "metadata": {},
   "outputs": [],
   "source": [
    "X = df['phrase_custom']\n",
    "y=df['Sentiment']\n",
    "X_train, X_test, y_train, y_test = train_test_split(X, y, test_size=0.20, random_state=101)"
   ]
  },
  {
   "cell_type": "markdown",
   "metadata": {},
   "source": [
    "### Training a Mode\n",
    "\n",
    "**Creating a PipeLine that will both create a TF-IDF Vector out of the raw text data and fit a supervised learning model of our choice. Then fit that pipeline on the training data.**"
   ]
  },
  {
   "cell_type": "code",
   "execution_count": 63,
   "metadata": {},
   "outputs": [],
   "source": [
    "from sklearn.pipeline import Pipeline\n",
    "from sklearn.feature_extraction.text import TfidfVectorizer\n",
    "from sklearn.svm import LinearSVC\n",
    "from sklearn.svm import SVC\n",
    "from sklearn.model_selection import GridSearchCV"
   ]
  },
  {
   "cell_type": "code",
   "execution_count": 64,
   "metadata": {},
   "outputs": [
    {
     "name": "stderr",
     "output_type": "stream",
     "text": [
      "[nltk_data] Error loading omw-1.4: <urlopen error [WinError 10060] A\n",
      "[nltk_data]     connection attempt failed because the connected party\n",
      "[nltk_data]     did not properly respond after a period of time, or\n",
      "[nltk_data]     established connection failed because connected host\n",
      "[nltk_data]     has failed to respond>\n"
     ]
    },
    {
     "data": {
      "text/plain": [
       "False"
      ]
     },
     "execution_count": 64,
     "metadata": {},
     "output_type": "execute_result"
    }
   ],
   "source": [
    "\n",
    "# import nltk\n",
    "# nltk.download('omw-1.4')"
   ]
  },
  {
   "cell_type": "code",
   "execution_count": 65,
   "metadata": {},
   "outputs": [],
   "source": [
    "linear_svc = LinearSVC()\n",
    "pipe = Pipeline([('tfidf',TfidfVectorizer()),('svc',linear_svc)])\n"
   ]
  },
  {
   "cell_type": "code",
   "execution_count": 66,
   "metadata": {},
   "outputs": [
    {
     "name": "stdout",
     "output_type": "stream",
     "text": [
      "[0.58, 0.6, 0.62, 0.66, 0.7]\n"
     ]
    }
   ],
   "source": [
    "C = [0.58,0.6,0.62,0.66,0.70]\n",
    "print(C)\n",
    "param_grid = {'svc__C':C}"
   ]
  },
  {
   "cell_type": "code",
   "execution_count": 67,
   "metadata": {},
   "outputs": [],
   "source": [
    "grid_model = GridSearchCV(pipe,param_grid=param_grid,n_jobs=-1,scoring='accuracy',cv=10)"
   ]
  },
  {
   "cell_type": "code",
   "execution_count": 68,
   "metadata": {},
   "outputs": [
    {
     "data": {
      "text/plain": [
       "GridSearchCV(cv=10,\n",
       "             estimator=Pipeline(steps=[('tfidf', TfidfVectorizer()),\n",
       "                                       ('svc', LinearSVC())]),\n",
       "             n_jobs=-1, param_grid={'svc__C': [0.58, 0.6, 0.62, 0.66, 0.7]},\n",
       "             scoring='accuracy')"
      ]
     },
     "execution_count": 68,
     "metadata": {},
     "output_type": "execute_result"
    }
   ],
   "source": [
    "grid_model.fit(X_train,y_train)"
   ]
  },
  {
   "cell_type": "code",
   "execution_count": 69,
   "metadata": {},
   "outputs": [
    {
     "name": "stdout",
     "output_type": "stream",
     "text": [
      "{'svc__C': 0.7}\n"
     ]
    }
   ],
   "source": [
    "print(grid_model.best_params_)\n",
    "best_c = grid_model.best_params_['svc__C']"
   ]
  },
  {
   "cell_type": "code",
   "execution_count": null,
   "metadata": {},
   "outputs": [],
   "source": []
  },
  {
   "cell_type": "markdown",
   "metadata": {},
   "source": [
    "**TASK: Create a classification report and plot a confusion matrix based on the results of your PipeLine.**"
   ]
  },
  {
   "cell_type": "code",
   "execution_count": 70,
   "metadata": {},
   "outputs": [],
   "source": [
    "from sklearn.metrics import classification_report, plot_confusion_matrix"
   ]
  },
  {
   "cell_type": "code",
   "execution_count": 71,
   "metadata": {},
   "outputs": [
    {
     "data": {
      "text/plain": [
       "array([3., 2., 1., ..., 2., 2., 2.])"
      ]
     },
     "execution_count": 71,
     "metadata": {},
     "output_type": "execute_result"
    }
   ],
   "source": [
    "preds = grid_model.predict(X_test)\n",
    "preds"
   ]
  },
  {
   "cell_type": "code",
   "execution_count": 72,
   "metadata": {},
   "outputs": [
    {
     "name": "stdout",
     "output_type": "stream",
     "text": [
      "              precision    recall  f1-score   support\n",
      "\n",
      "         0.0       0.54      0.29      0.38      1493\n",
      "         1.0       0.54      0.43      0.48      5448\n",
      "         2.0       0.70      0.84      0.76     15882\n",
      "         3.0       0.56      0.49      0.52      6574\n",
      "         4.0       0.58      0.32      0.41      1818\n",
      "\n",
      "    accuracy                           0.64     31215\n",
      "   macro avg       0.58      0.48      0.51     31215\n",
      "weighted avg       0.62      0.64      0.62     31215\n",
      "\n"
     ]
    }
   ],
   "source": [
    "print(classification_report(y_test,preds))"
   ]
  },
  {
   "cell_type": "code",
   "execution_count": 73,
   "metadata": {},
   "outputs": [
    {
     "name": "stderr",
     "output_type": "stream",
     "text": [
      "c:\\Users\\mrizv\\anaconda3\\lib\\site-packages\\sklearn\\utils\\deprecation.py:87: FutureWarning: Function plot_confusion_matrix is deprecated; Function `plot_confusion_matrix` is deprecated in 1.0 and will be removed in 1.2. Use one of the class methods: ConfusionMatrixDisplay.from_predictions or ConfusionMatrixDisplay.from_estimator.\n",
      "  warnings.warn(msg, category=FutureWarning)\n"
     ]
    },
    {
     "data": {
      "text/plain": [
       "<sklearn.metrics._plot.confusion_matrix.ConfusionMatrixDisplay at 0x1e5badd9fa0>"
      ]
     },
     "execution_count": 73,
     "metadata": {},
     "output_type": "execute_result"
    },
    {
     "data": {
      "image/png": "[encoded data removed]",
      "text/plain": [
       "<Figure size 640x480 with 2 Axes>"
      ]
     },
     "metadata": {},
     "output_type": "display_data"
    }
   ],
   "source": [
    "plot_confusion_matrix(grid_model,X_test,y_test)"
   ]
  },
  {
   "cell_type": "code",
   "execution_count": 76,
   "metadata": {},
   "outputs": [
    {
     "data": {
      "text/plain": [
       "array([1., 4., 3., 1., 0., 2., 3., 4., 3.])"
      ]
     },
     "execution_count": 76,
     "metadata": {},
     "output_type": "execute_result"
    }
   ],
   "source": [
    "# grid_model.predict(['Perfect movie ever, I love it and enjoyed a lot, I will recommend to everyone'])\n",
    "X_test_custom=[\"I will not recommend this movie to anyone\",\"excellent movie\",\"nice\",\"I don't know why people were so excited, It isn't worth it.\",\"Time waste\",\"Time pass\",\"Time well spent\",'Perfect movie ever, I love it and enjoyed a lot, I will recommend to everyone','such story never dissapoints me']\n",
    "df = pd.DataFrame(X_test_custom,columns=['phrase'])\n",
    "df['phrase_modified'] = df['phrase'].apply(custom_tokenizer)\n",
    "df\n",
    "grid_model.predict(df['phrase_modified'].values)"
   ]
  },
  {
   "cell_type": "code",
   "execution_count": 75,
   "metadata": {},
   "outputs": [
    {
     "data": {
      "text/plain": [
       "GridSearchCV(cv=10,\n",
       "             estimator=Pipeline(steps=[('tfidf', TfidfVectorizer()),\n",
       "                                       ('svc', LinearSVC())]),\n",
       "             n_jobs=-1, param_grid={'svc__C': [0.58, 0.6, 0.62, 0.66, 0.7]},\n",
       "             scoring='accuracy')"
      ]
     },
     "execution_count": 75,
     "metadata": {},
     "output_type": "execute_result"
    }
   ],
   "source": [
    "grid_model.fit(X,y)"
   ]
  },
  {
   "cell_type": "markdown",
   "metadata": {},
   "source": [
    "## The End"
   ]
  },
  {
   "cell_type": "markdown",
   "metadata": {},
   "source": []
  },
  {
   "cell_type": "code",
   "execution_count": 77,
   "metadata": {},
   "outputs": [
    {
     "data": {
      "text/plain": [
       "['grid.pkl']"
      ]
     },
     "execution_count": 77,
     "metadata": {},
     "output_type": "execute_result"
    }
   ],
   "source": [
    "import joblib\n",
    "joblib.dump(grid_model,'grid.pkl')"
   ]
  },
  {
   "cell_type": "code",
   "execution_count": null,
   "metadata": {},
   "outputs": [],
   "source": []
  }
 ],
 "metadata": {
  "kernelspec": {
   "display_name": "Python 3 (ipykernel)",
   "language": "python",
   "name": "python3"
  },
  "language_info": {
   "codemirror_mode": {
    "name": "ipython",
    "version": 3
   },
   "file_extension": ".py",
   "mimetype": "text/x-python",
   "name": "python",
   "nbconvert_exporter": "python",
   "pygments_lexer": "ipython3",
   "version": "3.9.13"
  }
 },
 "nbformat": 4,
 "nbformat_minor": 2
}
